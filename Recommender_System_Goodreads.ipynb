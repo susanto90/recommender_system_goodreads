{
 "cells": [
  {
   "cell_type": "markdown",
   "metadata": {},
   "source": [
    "# 1. Preparation"
   ]
  },
  {
   "cell_type": "code",
   "execution_count": 1,
   "metadata": {},
   "outputs": [],
   "source": [
    "# Importing libraries\n",
    "import numpy as np\n",
    "import pandas as pd"
   ]
  },
  {
   "cell_type": "code",
   "execution_count": 2,
   "metadata": {},
   "outputs": [],
   "source": [
    "# Setting option\n",
    "pd.set_option('display.max_columns', 30)"
   ]
  },
  {
   "cell_type": "code",
   "execution_count": 3,
   "metadata": {},
   "outputs": [],
   "source": [
    "# Importing data\n",
    "books = pd.read_csv('datasets/books_ml.csv')\n",
    "ratings = pd.read_csv('datasets/ratings_ml.csv')\n",
    "book_tag = pd.read_csv('datasets/book_tag_ml.csv')"
   ]
  },
  {
   "cell_type": "code",
   "execution_count": 4,
   "metadata": {},
   "outputs": [
    {
     "data": {
      "text/html": [
       "<div>\n",
       "<style scoped>\n",
       "    .dataframe tbody tr th:only-of-type {\n",
       "        vertical-align: middle;\n",
       "    }\n",
       "\n",
       "    .dataframe tbody tr th {\n",
       "        vertical-align: top;\n",
       "    }\n",
       "\n",
       "    .dataframe thead th {\n",
       "        text-align: right;\n",
       "    }\n",
       "</style>\n",
       "<table border=\"1\" class=\"dataframe\">\n",
       "  <thead>\n",
       "    <tr style=\"text-align: right;\">\n",
       "      <th></th>\n",
       "      <th>book_id</th>\n",
       "      <th>goodreads_book_id</th>\n",
       "      <th>best_book_id</th>\n",
       "      <th>work_id</th>\n",
       "      <th>books_count</th>\n",
       "      <th>isbn</th>\n",
       "      <th>isbn13</th>\n",
       "      <th>authors</th>\n",
       "      <th>original_publication_year</th>\n",
       "      <th>original_title</th>\n",
       "      <th>title</th>\n",
       "      <th>language_code</th>\n",
       "      <th>average_rating</th>\n",
       "      <th>ratings_count</th>\n",
       "      <th>work_ratings_count</th>\n",
       "      <th>work_text_reviews_count</th>\n",
       "      <th>ratings_1</th>\n",
       "      <th>ratings_2</th>\n",
       "      <th>ratings_3</th>\n",
       "      <th>ratings_4</th>\n",
       "      <th>ratings_5</th>\n",
       "      <th>image_url</th>\n",
       "      <th>small_image_url</th>\n",
       "      <th>cleaned_authors</th>\n",
       "      <th>cleaned_title</th>\n",
       "      <th>top_5_tags</th>\n",
       "    </tr>\n",
       "  </thead>\n",
       "  <tbody>\n",
       "    <tr>\n",
       "      <th>0</th>\n",
       "      <td>1</td>\n",
       "      <td>2767052</td>\n",
       "      <td>2767052</td>\n",
       "      <td>2792775</td>\n",
       "      <td>272</td>\n",
       "      <td>0439023483</td>\n",
       "      <td>9780439023480</td>\n",
       "      <td>Suzanne Collins</td>\n",
       "      <td>2008</td>\n",
       "      <td>The Hunger Games</td>\n",
       "      <td>The Hunger Games (The Hunger Games, #1)</td>\n",
       "      <td>eng</td>\n",
       "      <td>4.34</td>\n",
       "      <td>4780653</td>\n",
       "      <td>4942365</td>\n",
       "      <td>155254</td>\n",
       "      <td>66715</td>\n",
       "      <td>127936</td>\n",
       "      <td>560092</td>\n",
       "      <td>1481305</td>\n",
       "      <td>2706317</td>\n",
       "      <td>https://images.gr-assets.com/books/1447303603m...</td>\n",
       "      <td>https://images.gr-assets.com/books/1447303603s...</td>\n",
       "      <td>suzanne collins</td>\n",
       "      <td>the hunger games the hunger games 1</td>\n",
       "      <td>favorites, currently-reading, young-adult, fic...</td>\n",
       "    </tr>\n",
       "    <tr>\n",
       "      <th>1</th>\n",
       "      <td>2</td>\n",
       "      <td>3</td>\n",
       "      <td>3</td>\n",
       "      <td>4640799</td>\n",
       "      <td>491</td>\n",
       "      <td>0439554934</td>\n",
       "      <td>9780439554930</td>\n",
       "      <td>J.K. Rowling, Mary GrandPré</td>\n",
       "      <td>1997</td>\n",
       "      <td>Harry Potter and the Philosopher's Stone</td>\n",
       "      <td>Harry Potter and the Sorcerer's Stone (Harry P...</td>\n",
       "      <td>eng</td>\n",
       "      <td>4.44</td>\n",
       "      <td>4602479</td>\n",
       "      <td>4800065</td>\n",
       "      <td>75867</td>\n",
       "      <td>75504</td>\n",
       "      <td>101676</td>\n",
       "      <td>455024</td>\n",
       "      <td>1156318</td>\n",
       "      <td>3011543</td>\n",
       "      <td>https://images.gr-assets.com/books/1474154022m...</td>\n",
       "      <td>https://images.gr-assets.com/books/1474154022s...</td>\n",
       "      <td>jk rowling mary grandpr</td>\n",
       "      <td>harry potter and the sorcerers stone harry pot...</td>\n",
       "      <td>to-read, favorites, fantasy, currently-reading...</td>\n",
       "    </tr>\n",
       "    <tr>\n",
       "      <th>2</th>\n",
       "      <td>3</td>\n",
       "      <td>41865</td>\n",
       "      <td>41865</td>\n",
       "      <td>3212258</td>\n",
       "      <td>226</td>\n",
       "      <td>0316015849</td>\n",
       "      <td>9780316015840</td>\n",
       "      <td>Stephenie Meyer</td>\n",
       "      <td>2005</td>\n",
       "      <td>Twilight</td>\n",
       "      <td>Twilight (Twilight, #1)</td>\n",
       "      <td>en-US</td>\n",
       "      <td>3.57</td>\n",
       "      <td>3866839</td>\n",
       "      <td>3916824</td>\n",
       "      <td>95009</td>\n",
       "      <td>456191</td>\n",
       "      <td>436802</td>\n",
       "      <td>793319</td>\n",
       "      <td>875073</td>\n",
       "      <td>1355439</td>\n",
       "      <td>https://images.gr-assets.com/books/1361039443m...</td>\n",
       "      <td>https://images.gr-assets.com/books/1361039443s...</td>\n",
       "      <td>stephenie meyer</td>\n",
       "      <td>twilight twilight 1</td>\n",
       "      <td>young-adult, fantasy, favorites, vampires, ya</td>\n",
       "    </tr>\n",
       "    <tr>\n",
       "      <th>3</th>\n",
       "      <td>4</td>\n",
       "      <td>2657</td>\n",
       "      <td>2657</td>\n",
       "      <td>3275794</td>\n",
       "      <td>487</td>\n",
       "      <td>0061120081</td>\n",
       "      <td>9780061120080</td>\n",
       "      <td>Harper Lee</td>\n",
       "      <td>1960</td>\n",
       "      <td>To Kill a Mockingbird</td>\n",
       "      <td>To Kill a Mockingbird</td>\n",
       "      <td>eng</td>\n",
       "      <td>4.25</td>\n",
       "      <td>3198671</td>\n",
       "      <td>3340896</td>\n",
       "      <td>72586</td>\n",
       "      <td>60427</td>\n",
       "      <td>117415</td>\n",
       "      <td>446835</td>\n",
       "      <td>1001952</td>\n",
       "      <td>1714267</td>\n",
       "      <td>https://images.gr-assets.com/books/1361975680m...</td>\n",
       "      <td>https://images.gr-assets.com/books/1361975680s...</td>\n",
       "      <td>harper lee</td>\n",
       "      <td>to kill a mockingbird</td>\n",
       "      <td>classics, favorites, to-read, classic, histori...</td>\n",
       "    </tr>\n",
       "    <tr>\n",
       "      <th>4</th>\n",
       "      <td>5</td>\n",
       "      <td>4671</td>\n",
       "      <td>4671</td>\n",
       "      <td>245494</td>\n",
       "      <td>1356</td>\n",
       "      <td>0743273567</td>\n",
       "      <td>9780743273560</td>\n",
       "      <td>F. Scott Fitzgerald</td>\n",
       "      <td>1925</td>\n",
       "      <td>The Great Gatsby</td>\n",
       "      <td>The Great Gatsby</td>\n",
       "      <td>eng</td>\n",
       "      <td>3.89</td>\n",
       "      <td>2683664</td>\n",
       "      <td>2773745</td>\n",
       "      <td>51992</td>\n",
       "      <td>86236</td>\n",
       "      <td>197621</td>\n",
       "      <td>606158</td>\n",
       "      <td>936012</td>\n",
       "      <td>947718</td>\n",
       "      <td>https://images.gr-assets.com/books/1490528560m...</td>\n",
       "      <td>https://images.gr-assets.com/books/1490528560s...</td>\n",
       "      <td>f scott fitzgerald</td>\n",
       "      <td>the great gatsby</td>\n",
       "      <td>classics, favorites, fiction, classic, books-i...</td>\n",
       "    </tr>\n",
       "  </tbody>\n",
       "</table>\n",
       "</div>"
      ],
      "text/plain": [
       "   book_id  goodreads_book_id  best_book_id  work_id  books_count        isbn  \\\n",
       "0        1            2767052       2767052  2792775          272  0439023483   \n",
       "1        2                  3             3  4640799          491  0439554934   \n",
       "2        3              41865         41865  3212258          226  0316015849   \n",
       "3        4               2657          2657  3275794          487  0061120081   \n",
       "4        5               4671          4671   245494         1356  0743273567   \n",
       "\n",
       "          isbn13                      authors original_publication_year  \\\n",
       "0  9780439023480              Suzanne Collins                      2008   \n",
       "1  9780439554930  J.K. Rowling, Mary GrandPré                      1997   \n",
       "2  9780316015840              Stephenie Meyer                      2005   \n",
       "3  9780061120080                   Harper Lee                      1960   \n",
       "4  9780743273560          F. Scott Fitzgerald                      1925   \n",
       "\n",
       "                             original_title  \\\n",
       "0                          The Hunger Games   \n",
       "1  Harry Potter and the Philosopher's Stone   \n",
       "2                                  Twilight   \n",
       "3                     To Kill a Mockingbird   \n",
       "4                          The Great Gatsby   \n",
       "\n",
       "                                               title language_code  \\\n",
       "0            The Hunger Games (The Hunger Games, #1)           eng   \n",
       "1  Harry Potter and the Sorcerer's Stone (Harry P...           eng   \n",
       "2                            Twilight (Twilight, #1)         en-US   \n",
       "3                              To Kill a Mockingbird           eng   \n",
       "4                                   The Great Gatsby           eng   \n",
       "\n",
       "   average_rating  ratings_count  work_ratings_count  work_text_reviews_count  \\\n",
       "0            4.34        4780653             4942365                   155254   \n",
       "1            4.44        4602479             4800065                    75867   \n",
       "2            3.57        3866839             3916824                    95009   \n",
       "3            4.25        3198671             3340896                    72586   \n",
       "4            3.89        2683664             2773745                    51992   \n",
       "\n",
       "   ratings_1  ratings_2  ratings_3  ratings_4  ratings_5  \\\n",
       "0      66715     127936     560092    1481305    2706317   \n",
       "1      75504     101676     455024    1156318    3011543   \n",
       "2     456191     436802     793319     875073    1355439   \n",
       "3      60427     117415     446835    1001952    1714267   \n",
       "4      86236     197621     606158     936012     947718   \n",
       "\n",
       "                                           image_url  \\\n",
       "0  https://images.gr-assets.com/books/1447303603m...   \n",
       "1  https://images.gr-assets.com/books/1474154022m...   \n",
       "2  https://images.gr-assets.com/books/1361039443m...   \n",
       "3  https://images.gr-assets.com/books/1361975680m...   \n",
       "4  https://images.gr-assets.com/books/1490528560m...   \n",
       "\n",
       "                                     small_image_url          cleaned_authors  \\\n",
       "0  https://images.gr-assets.com/books/1447303603s...          suzanne collins   \n",
       "1  https://images.gr-assets.com/books/1474154022s...  jk rowling mary grandpr   \n",
       "2  https://images.gr-assets.com/books/1361039443s...          stephenie meyer   \n",
       "3  https://images.gr-assets.com/books/1361975680s...               harper lee   \n",
       "4  https://images.gr-assets.com/books/1490528560s...       f scott fitzgerald   \n",
       "\n",
       "                                       cleaned_title  \\\n",
       "0                the hunger games the hunger games 1   \n",
       "1  harry potter and the sorcerers stone harry pot...   \n",
       "2                                twilight twilight 1   \n",
       "3                              to kill a mockingbird   \n",
       "4                                   the great gatsby   \n",
       "\n",
       "                                          top_5_tags  \n",
       "0  favorites, currently-reading, young-adult, fic...  \n",
       "1  to-read, favorites, fantasy, currently-reading...  \n",
       "2      young-adult, fantasy, favorites, vampires, ya  \n",
       "3  classics, favorites, to-read, classic, histori...  \n",
       "4  classics, favorites, fiction, classic, books-i...  "
      ]
     },
     "execution_count": 4,
     "metadata": {},
     "output_type": "execute_result"
    }
   ],
   "source": [
    "books.head()"
   ]
  },
  {
   "cell_type": "code",
   "execution_count": 5,
   "metadata": {},
   "outputs": [
    {
     "data": {
      "text/html": [
       "<div>\n",
       "<style scoped>\n",
       "    .dataframe tbody tr th:only-of-type {\n",
       "        vertical-align: middle;\n",
       "    }\n",
       "\n",
       "    .dataframe tbody tr th {\n",
       "        vertical-align: top;\n",
       "    }\n",
       "\n",
       "    .dataframe thead th {\n",
       "        text-align: right;\n",
       "    }\n",
       "</style>\n",
       "<table border=\"1\" class=\"dataframe\">\n",
       "  <thead>\n",
       "    <tr style=\"text-align: right;\">\n",
       "      <th></th>\n",
       "      <th>user_id</th>\n",
       "      <th>book_id</th>\n",
       "      <th>rating</th>\n",
       "    </tr>\n",
       "  </thead>\n",
       "  <tbody>\n",
       "    <tr>\n",
       "      <th>0</th>\n",
       "      <td>75</td>\n",
       "      <td>11</td>\n",
       "      <td>5</td>\n",
       "    </tr>\n",
       "    <tr>\n",
       "      <th>1</th>\n",
       "      <td>143</td>\n",
       "      <td>11</td>\n",
       "      <td>5</td>\n",
       "    </tr>\n",
       "    <tr>\n",
       "      <th>2</th>\n",
       "      <td>230</td>\n",
       "      <td>11</td>\n",
       "      <td>5</td>\n",
       "    </tr>\n",
       "    <tr>\n",
       "      <th>3</th>\n",
       "      <td>247</td>\n",
       "      <td>11</td>\n",
       "      <td>5</td>\n",
       "    </tr>\n",
       "    <tr>\n",
       "      <th>4</th>\n",
       "      <td>256</td>\n",
       "      <td>11</td>\n",
       "      <td>4</td>\n",
       "    </tr>\n",
       "  </tbody>\n",
       "</table>\n",
       "</div>"
      ],
      "text/plain": [
       "   user_id  book_id  rating\n",
       "0       75       11       5\n",
       "1      143       11       5\n",
       "2      230       11       5\n",
       "3      247       11       5\n",
       "4      256       11       4"
      ]
     },
     "execution_count": 5,
     "metadata": {},
     "output_type": "execute_result"
    }
   ],
   "source": [
    "ratings.head()"
   ]
  },
  {
   "cell_type": "code",
   "execution_count": 6,
   "metadata": {},
   "outputs": [
    {
     "data": {
      "text/html": [
       "<div>\n",
       "<style scoped>\n",
       "    .dataframe tbody tr th:only-of-type {\n",
       "        vertical-align: middle;\n",
       "    }\n",
       "\n",
       "    .dataframe tbody tr th {\n",
       "        vertical-align: top;\n",
       "    }\n",
       "\n",
       "    .dataframe thead th {\n",
       "        text-align: right;\n",
       "    }\n",
       "</style>\n",
       "<table border=\"1\" class=\"dataframe\">\n",
       "  <thead>\n",
       "    <tr style=\"text-align: right;\">\n",
       "      <th></th>\n",
       "      <th>book_id</th>\n",
       "      <th>tag_id</th>\n",
       "      <th>count</th>\n",
       "      <th>tag_name</th>\n",
       "    </tr>\n",
       "  </thead>\n",
       "  <tbody>\n",
       "    <tr>\n",
       "      <th>0</th>\n",
       "      <td>1</td>\n",
       "      <td>11557</td>\n",
       "      <td>50755</td>\n",
       "      <td>favorites</td>\n",
       "    </tr>\n",
       "    <tr>\n",
       "      <th>1</th>\n",
       "      <td>2</td>\n",
       "      <td>11557</td>\n",
       "      <td>48220</td>\n",
       "      <td>favorites</td>\n",
       "    </tr>\n",
       "    <tr>\n",
       "      <th>2</th>\n",
       "      <td>3</td>\n",
       "      <td>11557</td>\n",
       "      <td>11782</td>\n",
       "      <td>favorites</td>\n",
       "    </tr>\n",
       "    <tr>\n",
       "      <th>3</th>\n",
       "      <td>4</td>\n",
       "      <td>11557</td>\n",
       "      <td>30903</td>\n",
       "      <td>favorites</td>\n",
       "    </tr>\n",
       "    <tr>\n",
       "      <th>4</th>\n",
       "      <td>5</td>\n",
       "      <td>11557</td>\n",
       "      <td>20851</td>\n",
       "      <td>favorites</td>\n",
       "    </tr>\n",
       "  </tbody>\n",
       "</table>\n",
       "</div>"
      ],
      "text/plain": [
       "   book_id  tag_id  count   tag_name\n",
       "0        1   11557  50755  favorites\n",
       "1        2   11557  48220  favorites\n",
       "2        3   11557  11782  favorites\n",
       "3        4   11557  30903  favorites\n",
       "4        5   11557  20851  favorites"
      ]
     },
     "execution_count": 6,
     "metadata": {},
     "output_type": "execute_result"
    }
   ],
   "source": [
    "book_tag.head()"
   ]
  },
  {
   "cell_type": "code",
   "execution_count": 7,
   "metadata": {},
   "outputs": [
    {
     "name": "stdout",
     "output_type": "stream",
     "text": [
      "Total number of users is 4011\n",
      "Total number of items (books) is 762\n"
     ]
    }
   ],
   "source": [
    "# Counting number of users and items\n",
    "n_users = ratings['user_id'].nunique()\n",
    "n_items = ratings['book_id'].nunique()\n",
    "\n",
    "print(f'Total number of users is {n_users}')\n",
    "print(f'Total number of items (books) is {n_items}')"
   ]
  },
  {
   "cell_type": "markdown",
   "metadata": {},
   "source": [
    "# 2. Recommender System"
   ]
  },
  {
   "cell_type": "markdown",
   "metadata": {},
   "source": [
    "For this project, I will try two approaches for the recommender system which are **Content-Based Recommendation** and **Collaborative Filtering (CF) Recommendation**."
   ]
  },
  {
   "cell_type": "markdown",
   "metadata": {},
   "source": [
    "## 2.1. Content-based Recommendation"
   ]
  },
  {
   "cell_type": "markdown",
   "metadata": {},
   "source": [
    "For content-based recommendation, I will use three features to recommend a book to a user which are 'title', 'author', and 'tag'. For each feature, I will try two approaches using TfidfVectorizer and CountVectorizer and pick the best approach based on my interpretation of the recommendation result. First, I will make function to get top-N recommendation."
   ]
  },
  {
   "cell_type": "code",
   "execution_count": 8,
   "metadata": {},
   "outputs": [],
   "source": [
    "# Importing libraries\n",
    "from sklearn.feature_extraction.text import TfidfVectorizer, TfidfTransformer, CountVectorizer\n",
    "from sklearn.metrics.pairwise import cosine_similarity"
   ]
  },
  {
   "cell_type": "code",
   "execution_count": 9,
   "metadata": {},
   "outputs": [],
   "source": [
    "# Making function to get top-N recommendation for content-based algorithm\n",
    "def top_n_recom_content(iid, similarity, n):\n",
    "    # Looking for index of the book_id (iid) in the dataset\n",
    "    idx = books[books['book_id'] == iid].index[0]\n",
    "    # Making list of index of the top-N recommended books\n",
    "    recom = pd.Series(similarity[idx]).sort_values(ascending = False)[1 : n + 1].index\n",
    "    return recom.to_list()"
   ]
  },
  {
   "cell_type": "markdown",
   "metadata": {},
   "source": [
    "### 2.1.1. Title"
   ]
  },
  {
   "cell_type": "code",
   "execution_count": 10,
   "metadata": {},
   "outputs": [],
   "source": [
    "# Making similarity matrix using TfidfVectorizer based on title\n",
    "tfidf = TfidfVectorizer(ngram_range = (1, 2), min_df = 0)\n",
    "tfidf_matrix = tfidf.fit_transform(books['cleaned_title'])\n",
    "sim_title_tfidf = cosine_similarity(tfidf_matrix)"
   ]
  },
  {
   "cell_type": "code",
   "execution_count": 11,
   "metadata": {},
   "outputs": [],
   "source": [
    "# Making similarity matrix using CountVectorizer based on title\n",
    "count = CountVectorizer(ngram_range = (1, 2), min_df = 0)\n",
    "count_matrix = count.fit_transform(books['cleaned_title'])\n",
    "sim_title_count = cosine_similarity(count_matrix)"
   ]
  },
  {
   "cell_type": "code",
   "execution_count": 12,
   "metadata": {},
   "outputs": [
    {
     "name": "stdout",
     "output_type": "stream",
     "text": [
      "Book:\n",
      "Harry Potter and the Sorcerer's Stone (Harry Potter, #1)\n",
      "\n",
      "Top-10 Recommended Books:\n",
      "- Harry Potter and the Half-Blood Prince (Harry Potter, #6)\n",
      "- Harry Potter and the Deathly Hallows (Harry Potter, #7)\n",
      "- Harry Potter and the Goblet of Fire (Harry Potter, #4)\n",
      "- Harry Potter and the Chamber of Secrets (Harry Potter, #2)\n",
      "- Harry Potter and the Prisoner of Azkaban (Harry Potter, #3)\n",
      "- Harry Potter and the Order of the Phoenix (Harry Potter, #5)\n",
      "- Harry Potter Boxset (Harry Potter, #1-7)\n",
      "- Harry Potter and the Cursed Child - Parts One and Two (Harry Potter, #8)\n",
      "- Cutting for Stone\n",
      "- And the Mountains Echoed\n"
     ]
    }
   ],
   "source": [
    "# Recommendation result based on TfidfVectorizer (title)\n",
    "iid = 2\n",
    "recom = top_n_recom_content(iid, sim_title_tfidf, 10)\n",
    "print(f\"Book:\\n{books[books['book_id'] == iid]['title'].values[0]}\\n\\nTop-10 Recommended Books:\", \n",
    "      '\\n'.join([f'- {books.loc[i][\"title\"]}'for i in recom]), sep = '\\n')"
   ]
  },
  {
   "cell_type": "code",
   "execution_count": 13,
   "metadata": {},
   "outputs": [
    {
     "name": "stdout",
     "output_type": "stream",
     "text": [
      "Book:\n",
      "Harry Potter and the Sorcerer's Stone (Harry Potter, #1)\n",
      "\n",
      "Top-10 Recommended Books:\n",
      "- Harry Potter and the Deathly Hallows (Harry Potter, #7)\n",
      "- Harry Potter and the Half-Blood Prince (Harry Potter, #6)\n",
      "- Harry Potter and the Goblet of Fire (Harry Potter, #4)\n",
      "- Harry Potter and the Chamber of Secrets (Harry Potter, #2)\n",
      "- Harry Potter and the Prisoner of Azkaban (Harry Potter, #3)\n",
      "- Harry Potter and the Order of the Phoenix (Harry Potter, #5)\n",
      "- Harry Potter and the Cursed Child - Parts One and Two (Harry Potter, #8)\n",
      "- Harry Potter Boxset (Harry Potter, #1-7)\n",
      "- The Sound and the Fury\n",
      "- And the Mountains Echoed\n"
     ]
    }
   ],
   "source": [
    "# Recommendation result based on CountVectorizer (title)\n",
    "recom = top_n_recom_content(iid, sim_title_count, 10)\n",
    "print(f\"Book:\\n{books[books['book_id'] == iid]['title'].values[0]}\\n\\nTop-10 Recommended Books:\", \n",
    "      '\\n'.join([f'- {books.loc[i][\"title\"]}'for i in recom]), sep = '\\n')"
   ]
  },
  {
   "cell_type": "markdown",
   "metadata": {},
   "source": [
    "### 2.1.2. Author"
   ]
  },
  {
   "cell_type": "code",
   "execution_count": 14,
   "metadata": {},
   "outputs": [],
   "source": [
    "# Making similarity matrix using TfidfVectorizer based on author\n",
    "tfidf = TfidfVectorizer(ngram_range = (1, 2), min_df = 0)\n",
    "tfidf_matrix = tfidf.fit_transform(books['cleaned_authors'])\n",
    "sim_author_tfidf = cosine_similarity(tfidf_matrix)"
   ]
  },
  {
   "cell_type": "code",
   "execution_count": 15,
   "metadata": {},
   "outputs": [],
   "source": [
    "# Making similarity matrix using CountVectorizer based on author\n",
    "count = CountVectorizer(ngram_range = (1, 2), min_df = 0)\n",
    "count_matrix = count.fit_transform(books['cleaned_authors'])\n",
    "sim_author_count = cosine_similarity(count_matrix)"
   ]
  },
  {
   "cell_type": "code",
   "execution_count": 16,
   "metadata": {},
   "outputs": [
    {
     "name": "stdout",
     "output_type": "stream",
     "text": [
      "Book:\n",
      "Harry Potter and the Sorcerer's Stone (Harry Potter, #1)\n",
      "\n",
      "Top-10 Recommended Books:\n",
      "- Harry Potter and the Order of the Phoenix (Harry Potter, #5)\n",
      "- Harry Potter and the Sorcerer's Stone (Harry Potter, #1)\n",
      "- Harry Potter and the Chamber of Secrets (Harry Potter, #2)\n",
      "- Harry Potter and the Goblet of Fire (Harry Potter, #4)\n",
      "- Harry Potter and the Deathly Hallows (Harry Potter, #7)\n",
      "- Harry Potter and the Prisoner of Azkaban (Harry Potter, #3)\n",
      "- The Casual Vacancy\n",
      "- Harry Potter Boxset (Harry Potter, #1-7)\n",
      "- The Tales of Beedle the Bard\n",
      "- The Silkworm (Cormoran Strike, #2)\n"
     ]
    }
   ],
   "source": [
    "# Recommendation result based on TfidfVectorizer (author)\n",
    "recom = top_n_recom_content(iid, sim_author_tfidf, 10)\n",
    "print(f\"Book:\\n{books[books['book_id'] == iid]['title'].values[0]}\\n\\nTop-10 Recommended Books:\", \n",
    "      '\\n'.join([f'- {books.loc[i][\"title\"]}'for i in recom]), sep = '\\n')"
   ]
  },
  {
   "cell_type": "code",
   "execution_count": 17,
   "metadata": {},
   "outputs": [
    {
     "name": "stdout",
     "output_type": "stream",
     "text": [
      "Book:\n",
      "Harry Potter and the Sorcerer's Stone (Harry Potter, #1)\n",
      "\n",
      "Top-10 Recommended Books:\n",
      "- Harry Potter and the Order of the Phoenix (Harry Potter, #5)\n",
      "- Harry Potter and the Sorcerer's Stone (Harry Potter, #1)\n",
      "- Harry Potter and the Chamber of Secrets (Harry Potter, #2)\n",
      "- Harry Potter and the Goblet of Fire (Harry Potter, #4)\n",
      "- Harry Potter and the Deathly Hallows (Harry Potter, #7)\n",
      "- Harry Potter and the Prisoner of Azkaban (Harry Potter, #3)\n",
      "- The Casual Vacancy\n",
      "- Harry Potter Boxset (Harry Potter, #1-7)\n",
      "- The Tales of Beedle the Bard\n",
      "- The Silkworm (Cormoran Strike, #2)\n"
     ]
    }
   ],
   "source": [
    "# Recommendation result based on CountVectorizer (author)\n",
    "recom = top_n_recom_content(2, sim_author_count, 10)\n",
    "print(f\"Book:\\n{books[books['book_id'] == iid]['title'].values[0]}\\n\\nTop-10 Recommended Books:\", '\\n'.join([f'- {books.loc[i][\"title\"]}'for i in recom]), sep = '\\n')"
   ]
  },
  {
   "cell_type": "markdown",
   "metadata": {},
   "source": [
    "### 2.1.3. Tag"
   ]
  },
  {
   "cell_type": "markdown",
   "metadata": {},
   "source": [
    "Since the tag data's format is slightly different with other data, I will make count matrix manually and then transform it into tf-idf matrix"
   ]
  },
  {
   "cell_type": "code",
   "execution_count": 18,
   "metadata": {},
   "outputs": [
    {
     "data": {
      "text/html": [
       "<div>\n",
       "<style scoped>\n",
       "    .dataframe tbody tr th:only-of-type {\n",
       "        vertical-align: middle;\n",
       "    }\n",
       "\n",
       "    .dataframe tbody tr th {\n",
       "        vertical-align: top;\n",
       "    }\n",
       "\n",
       "    .dataframe thead th {\n",
       "        text-align: right;\n",
       "    }\n",
       "</style>\n",
       "<table border=\"1\" class=\"dataframe\">\n",
       "  <thead>\n",
       "    <tr style=\"text-align: right;\">\n",
       "      <th></th>\n",
       "      <th>11557</th>\n",
       "      <th>8717</th>\n",
       "      <th>33114</th>\n",
       "      <th>11743</th>\n",
       "      <th>10064</th>\n",
       "      <th>30574</th>\n",
       "      <th>10059</th>\n",
       "      <th>11305</th>\n",
       "      <th>32989</th>\n",
       "      <th>26837</th>\n",
       "      <th>5207</th>\n",
       "      <th>26771</th>\n",
       "      <th>27199</th>\n",
       "      <th>22743</th>\n",
       "      <th>11590</th>\n",
       "      <th>...</th>\n",
       "      <th>20006</th>\n",
       "      <th>11109</th>\n",
       "      <th>1729</th>\n",
       "      <th>14820</th>\n",
       "      <th>28680</th>\n",
       "      <th>19911</th>\n",
       "      <th>6185</th>\n",
       "      <th>6187</th>\n",
       "      <th>30779</th>\n",
       "      <th>2758</th>\n",
       "      <th>23407</th>\n",
       "      <th>29241</th>\n",
       "      <th>28121</th>\n",
       "      <th>24744</th>\n",
       "      <th>11051</th>\n",
       "    </tr>\n",
       "  </thead>\n",
       "  <tbody>\n",
       "    <tr>\n",
       "      <th>1</th>\n",
       "      <td>0.0</td>\n",
       "      <td>0.0</td>\n",
       "      <td>0.0</td>\n",
       "      <td>0.0</td>\n",
       "      <td>0.0</td>\n",
       "      <td>0.0</td>\n",
       "      <td>0.0</td>\n",
       "      <td>0.0</td>\n",
       "      <td>0.0</td>\n",
       "      <td>0.0</td>\n",
       "      <td>0.0</td>\n",
       "      <td>0.0</td>\n",
       "      <td>0.0</td>\n",
       "      <td>0.0</td>\n",
       "      <td>0.0</td>\n",
       "      <td>...</td>\n",
       "      <td>0.0</td>\n",
       "      <td>0.0</td>\n",
       "      <td>0.0</td>\n",
       "      <td>0.0</td>\n",
       "      <td>0.0</td>\n",
       "      <td>0.0</td>\n",
       "      <td>0.0</td>\n",
       "      <td>0.0</td>\n",
       "      <td>0.0</td>\n",
       "      <td>0.0</td>\n",
       "      <td>0.0</td>\n",
       "      <td>0.0</td>\n",
       "      <td>0.0</td>\n",
       "      <td>0.0</td>\n",
       "      <td>0.0</td>\n",
       "    </tr>\n",
       "    <tr>\n",
       "      <th>2</th>\n",
       "      <td>0.0</td>\n",
       "      <td>0.0</td>\n",
       "      <td>0.0</td>\n",
       "      <td>0.0</td>\n",
       "      <td>0.0</td>\n",
       "      <td>0.0</td>\n",
       "      <td>0.0</td>\n",
       "      <td>0.0</td>\n",
       "      <td>0.0</td>\n",
       "      <td>0.0</td>\n",
       "      <td>0.0</td>\n",
       "      <td>0.0</td>\n",
       "      <td>0.0</td>\n",
       "      <td>0.0</td>\n",
       "      <td>0.0</td>\n",
       "      <td>...</td>\n",
       "      <td>0.0</td>\n",
       "      <td>0.0</td>\n",
       "      <td>0.0</td>\n",
       "      <td>0.0</td>\n",
       "      <td>0.0</td>\n",
       "      <td>0.0</td>\n",
       "      <td>0.0</td>\n",
       "      <td>0.0</td>\n",
       "      <td>0.0</td>\n",
       "      <td>0.0</td>\n",
       "      <td>0.0</td>\n",
       "      <td>0.0</td>\n",
       "      <td>0.0</td>\n",
       "      <td>0.0</td>\n",
       "      <td>0.0</td>\n",
       "    </tr>\n",
       "    <tr>\n",
       "      <th>3</th>\n",
       "      <td>0.0</td>\n",
       "      <td>0.0</td>\n",
       "      <td>0.0</td>\n",
       "      <td>0.0</td>\n",
       "      <td>0.0</td>\n",
       "      <td>0.0</td>\n",
       "      <td>0.0</td>\n",
       "      <td>0.0</td>\n",
       "      <td>0.0</td>\n",
       "      <td>0.0</td>\n",
       "      <td>0.0</td>\n",
       "      <td>0.0</td>\n",
       "      <td>0.0</td>\n",
       "      <td>0.0</td>\n",
       "      <td>0.0</td>\n",
       "      <td>...</td>\n",
       "      <td>0.0</td>\n",
       "      <td>0.0</td>\n",
       "      <td>0.0</td>\n",
       "      <td>0.0</td>\n",
       "      <td>0.0</td>\n",
       "      <td>0.0</td>\n",
       "      <td>0.0</td>\n",
       "      <td>0.0</td>\n",
       "      <td>0.0</td>\n",
       "      <td>0.0</td>\n",
       "      <td>0.0</td>\n",
       "      <td>0.0</td>\n",
       "      <td>0.0</td>\n",
       "      <td>0.0</td>\n",
       "      <td>0.0</td>\n",
       "    </tr>\n",
       "    <tr>\n",
       "      <th>4</th>\n",
       "      <td>0.0</td>\n",
       "      <td>0.0</td>\n",
       "      <td>0.0</td>\n",
       "      <td>0.0</td>\n",
       "      <td>0.0</td>\n",
       "      <td>0.0</td>\n",
       "      <td>0.0</td>\n",
       "      <td>0.0</td>\n",
       "      <td>0.0</td>\n",
       "      <td>0.0</td>\n",
       "      <td>0.0</td>\n",
       "      <td>0.0</td>\n",
       "      <td>0.0</td>\n",
       "      <td>0.0</td>\n",
       "      <td>0.0</td>\n",
       "      <td>...</td>\n",
       "      <td>0.0</td>\n",
       "      <td>0.0</td>\n",
       "      <td>0.0</td>\n",
       "      <td>0.0</td>\n",
       "      <td>0.0</td>\n",
       "      <td>0.0</td>\n",
       "      <td>0.0</td>\n",
       "      <td>0.0</td>\n",
       "      <td>0.0</td>\n",
       "      <td>0.0</td>\n",
       "      <td>0.0</td>\n",
       "      <td>0.0</td>\n",
       "      <td>0.0</td>\n",
       "      <td>0.0</td>\n",
       "      <td>0.0</td>\n",
       "    </tr>\n",
       "    <tr>\n",
       "      <th>5</th>\n",
       "      <td>0.0</td>\n",
       "      <td>0.0</td>\n",
       "      <td>0.0</td>\n",
       "      <td>0.0</td>\n",
       "      <td>0.0</td>\n",
       "      <td>0.0</td>\n",
       "      <td>0.0</td>\n",
       "      <td>0.0</td>\n",
       "      <td>0.0</td>\n",
       "      <td>0.0</td>\n",
       "      <td>0.0</td>\n",
       "      <td>0.0</td>\n",
       "      <td>0.0</td>\n",
       "      <td>0.0</td>\n",
       "      <td>0.0</td>\n",
       "      <td>...</td>\n",
       "      <td>0.0</td>\n",
       "      <td>0.0</td>\n",
       "      <td>0.0</td>\n",
       "      <td>0.0</td>\n",
       "      <td>0.0</td>\n",
       "      <td>0.0</td>\n",
       "      <td>0.0</td>\n",
       "      <td>0.0</td>\n",
       "      <td>0.0</td>\n",
       "      <td>0.0</td>\n",
       "      <td>0.0</td>\n",
       "      <td>0.0</td>\n",
       "      <td>0.0</td>\n",
       "      <td>0.0</td>\n",
       "      <td>0.0</td>\n",
       "    </tr>\n",
       "  </tbody>\n",
       "</table>\n",
       "<p>5 rows × 3829 columns</p>\n",
       "</div>"
      ],
      "text/plain": [
       "   11557  8717   33114  11743  10064  30574  10059  11305  32989  26837  \\\n",
       "1    0.0    0.0    0.0    0.0    0.0    0.0    0.0    0.0    0.0    0.0   \n",
       "2    0.0    0.0    0.0    0.0    0.0    0.0    0.0    0.0    0.0    0.0   \n",
       "3    0.0    0.0    0.0    0.0    0.0    0.0    0.0    0.0    0.0    0.0   \n",
       "4    0.0    0.0    0.0    0.0    0.0    0.0    0.0    0.0    0.0    0.0   \n",
       "5    0.0    0.0    0.0    0.0    0.0    0.0    0.0    0.0    0.0    0.0   \n",
       "\n",
       "   5207   26771  27199  22743  11590  ...  20006  11109  1729   14820  28680  \\\n",
       "1    0.0    0.0    0.0    0.0    0.0  ...    0.0    0.0    0.0    0.0    0.0   \n",
       "2    0.0    0.0    0.0    0.0    0.0  ...    0.0    0.0    0.0    0.0    0.0   \n",
       "3    0.0    0.0    0.0    0.0    0.0  ...    0.0    0.0    0.0    0.0    0.0   \n",
       "4    0.0    0.0    0.0    0.0    0.0  ...    0.0    0.0    0.0    0.0    0.0   \n",
       "5    0.0    0.0    0.0    0.0    0.0  ...    0.0    0.0    0.0    0.0    0.0   \n",
       "\n",
       "   19911  6185   6187   30779  2758   23407  29241  28121  24744  11051  \n",
       "1    0.0    0.0    0.0    0.0    0.0    0.0    0.0    0.0    0.0    0.0  \n",
       "2    0.0    0.0    0.0    0.0    0.0    0.0    0.0    0.0    0.0    0.0  \n",
       "3    0.0    0.0    0.0    0.0    0.0    0.0    0.0    0.0    0.0    0.0  \n",
       "4    0.0    0.0    0.0    0.0    0.0    0.0    0.0    0.0    0.0    0.0  \n",
       "5    0.0    0.0    0.0    0.0    0.0    0.0    0.0    0.0    0.0    0.0  \n",
       "\n",
       "[5 rows x 3829 columns]"
      ]
     },
     "execution_count": 18,
     "metadata": {},
     "output_type": "execute_result"
    }
   ],
   "source": [
    "# Making pivot table consists of zeros\n",
    "idx_row = book_tag['book_id'].unique() \n",
    "n_row = len(idx_row)\n",
    "idx_col = book_tag['tag_id'].unique() \n",
    "n_col = len(idx_col)\n",
    "\n",
    "count_matrix = pd.DataFrame(np.zeros((n_row, n_col)), index = idx_row, columns = idx_col)\n",
    "count_matrix.head()"
   ]
  },
  {
   "cell_type": "code",
   "execution_count": 19,
   "metadata": {},
   "outputs": [
    {
     "data": {
      "text/plain": [
       "array([[50755., 35418., 25968., ...,     0.,     0.,     0.],\n",
       "       [48220., 44640., 14984., ...,     0.,     0.,     0.],\n",
       "       [11782.,   240., 16446., ...,     0.,     0.,     0.],\n",
       "       ...,\n",
       "       [    0.,     0.,     0., ...,     0.,     0.,     0.],\n",
       "       [    0.,     0.,     0., ...,     0.,     0.,     0.],\n",
       "       [    0.,     0.,     0., ...,     0.,     0.,     0.]])"
      ]
     },
     "execution_count": 19,
     "metadata": {},
     "output_type": "execute_result"
    }
   ],
   "source": [
    "# Filling dataframes with tag counts\n",
    "for data in book_tag.itertuples():\n",
    "    count_matrix.at[data[1], data[2]] = data[3]\n",
    "\n",
    "# Changing dataframe into 2D array\n",
    "count_matrix = count_matrix.to_numpy()\n",
    "count_matrix"
   ]
  },
  {
   "cell_type": "markdown",
   "metadata": {},
   "source": [
    "Now, we have our matrix (like using CountVectorizer). I will use TfidfTransformer to transform it into Tf-Idf matrix."
   ]
  },
  {
   "cell_type": "code",
   "execution_count": 20,
   "metadata": {},
   "outputs": [
    {
     "data": {
      "text/plain": [
       "array([[0.48755726, 0.34653371, 0.4056331 , ..., 0.        , 0.        ,\n",
       "        0.        ],\n",
       "       [0.09721417, 0.09166451, 0.04912225, ..., 0.        , 0.        ,\n",
       "        0.        ],\n",
       "       [0.21126071, 0.00438314, 0.47952151, ..., 0.        , 0.        ,\n",
       "        0.        ],\n",
       "       ...,\n",
       "       [0.        , 0.        , 0.        , ..., 0.        , 0.        ,\n",
       "        0.        ],\n",
       "       [0.        , 0.        , 0.        , ..., 0.        , 0.        ,\n",
       "        0.        ],\n",
       "       [0.        , 0.        , 0.        , ..., 0.        , 0.        ,\n",
       "        0.        ]])"
      ]
     },
     "execution_count": 20,
     "metadata": {},
     "output_type": "execute_result"
    }
   ],
   "source": [
    "# Making Tf-Idf matrix\n",
    "tfidf = TfidfTransformer()\n",
    "tfidf_matrix = tfidf.fit_transform(count_matrix).toarray()\n",
    "tfidf_matrix"
   ]
  },
  {
   "cell_type": "markdown",
   "metadata": {},
   "source": [
    "After this step, I calculate cosine similarity just like other attributes (title and author)"
   ]
  },
  {
   "cell_type": "code",
   "execution_count": 21,
   "metadata": {},
   "outputs": [],
   "source": [
    "# Calculating cosine similarity\n",
    "sim_tag_tfidf = cosine_similarity(tfidf_matrix)\n",
    "sim_tag_count = cosine_similarity(count_matrix)"
   ]
  },
  {
   "cell_type": "code",
   "execution_count": 22,
   "metadata": {},
   "outputs": [
    {
     "name": "stdout",
     "output_type": "stream",
     "text": [
      "Book:\n",
      "Harry Potter and the Sorcerer's Stone (Harry Potter, #1)\n",
      "\n",
      "Top-10 Recommended Books:\n",
      "- Where the Heart Is\n",
      "- Clockwork Angel (The Infernal Devices, #1)\n",
      "- The Other Boleyn Girl (The Plantagenet and Tudor Novels, #9)\n",
      "- Midnight in the Garden of Good and Evil\n",
      "- The Phantom of the Opera\n",
      "- The Adventures of Huckleberry Finn\n",
      "- Beautiful Creatures (Caster Chronicles, #1)\n",
      "- Cujo\n",
      "- Walden\n",
      "- Do Androids Dream of Electric Sheep?\n"
     ]
    }
   ],
   "source": [
    "# Recommendation result based on TfidfVectorizer (tag)\n",
    "recom = top_n_recom_content(2, sim_tag_tfidf, 10)\n",
    "print(f\"Book:\\n{books[books['book_id'] == iid]['title'].values[0]}\\n\\nTop-10 Recommended Books:\", '\\n'.join([f'- {books.loc[i][\"title\"]}'for i in recom]), sep = '\\n')"
   ]
  },
  {
   "cell_type": "code",
   "execution_count": 23,
   "metadata": {},
   "outputs": [
    {
     "name": "stdout",
     "output_type": "stream",
     "text": [
      "Book:\n",
      "Harry Potter and the Sorcerer's Stone (Harry Potter, #1)\n",
      "\n",
      "Top-10 Recommended Books:\n",
      "- Clockwork Angel (The Infernal Devices, #1)\n",
      "- Fried Green Tomatoes at the Whistle Stop Cafe\n",
      "- Coraline\n",
      "- City of Ashes (The Mortal Instruments, #2)\n",
      "- Definitely Dead (Sookie Stackhouse, #6)\n",
      "- Thirteen Reasons Why\n",
      "- Deception Point\n",
      "- The Other Boleyn Girl (The Plantagenet and Tudor Novels, #9)\n",
      "- Midnight in the Garden of Good and Evil\n",
      "- The Son of Neptune (The Heroes of Olympus, #2)\n"
     ]
    }
   ],
   "source": [
    "# Recommendation result based on CountVectorizer (tag)\n",
    "recom = top_n_recom_content(2, sim_tag_count, 10)\n",
    "print(f\"Book:\\n{books[books['book_id'] == iid]['title'].values[0]}\\n\\nTop-10 Recommended Books:\", '\\n'.join([f'- {books.loc[i][\"title\"]}'for i in recom]), sep = '\\n')"
   ]
  },
  {
   "cell_type": "markdown",
   "metadata": {},
   "source": [
    "Comparing the results between Tf-Ifd and Count vectorizer for each feature (title, author, tag), I decided to use TfifdVectorizer based on my interpretation regarding which approach gives the best result."
   ]
  },
  {
   "cell_type": "markdown",
   "metadata": {},
   "source": [
    "## 2.2. Collaborative Filtering"
   ]
  },
  {
   "cell_type": "markdown",
   "metadata": {},
   "source": [
    "For CF recommendation, I will use several methods such as user-based CF, item-based CF, SVD, SlopeOne, and Co-clustering. I use RMSE as the evaluation metric. I will look into base model that gives the lowest RMSE and after that I will conduct hyperparameter tuning and cross validation."
   ]
  },
  {
   "cell_type": "code",
   "execution_count": 24,
   "metadata": {},
   "outputs": [],
   "source": [
    "# Import libraries\n",
    "from surprise import Reader, Dataset\n",
    "from surprise import KNNBasic, KNNWithMeans, SVD, SlopeOne, CoClustering\n",
    "from surprise.accuracy import rmse"
   ]
  },
  {
   "cell_type": "code",
   "execution_count": 25,
   "metadata": {},
   "outputs": [],
   "source": [
    "# Loading dataset\n",
    "reader = Reader()\n",
    "df = Dataset.load_from_df(ratings, reader)"
   ]
  },
  {
   "cell_type": "code",
   "execution_count": 26,
   "metadata": {},
   "outputs": [],
   "source": [
    "# Splitting dataset into training and testing data\n",
    "from surprise.model_selection import train_test_split\n",
    "df_train, df_test = train_test_split(df, test_size = 0.3, random_state = 101)"
   ]
  },
  {
   "cell_type": "code",
   "execution_count": 27,
   "metadata": {},
   "outputs": [
    {
     "name": "stdout",
     "output_type": "stream",
     "text": [
      "Computing the msd similarity matrix...\n",
      "Done computing similarity matrix.\n",
      "RMSE: 0.8970\n",
      "Computing the msd similarity matrix...\n",
      "Done computing similarity matrix.\n",
      "RMSE: 0.8964\n",
      "Computing the msd similarity matrix...\n",
      "Done computing similarity matrix.\n",
      "RMSE: 0.8729\n",
      "Computing the msd similarity matrix...\n",
      "Done computing similarity matrix.\n",
      "RMSE: 0.8685\n",
      "RMSE: 0.8723\n",
      "RMSE: 0.8776\n",
      "RMSE: 0.8904\n"
     ]
    }
   ],
   "source": [
    "# Training and testing the algorithms\n",
    "data = list()\n",
    "\n",
    "for algorithm in [KNNBasic(), KNNBasic(sim_options = {'user_based' : False}), \n",
    "                  KNNWithMeans(), KNNWithMeans(sim_options = {'user_based' : False}), \n",
    "                  SVD(), SlopeOne(), CoClustering()]:\n",
    "    data.append([rmse(algorithm.fit(df_train).test(df_test))])"
   ]
  },
  {
   "cell_type": "code",
   "execution_count": 28,
   "metadata": {
    "scrolled": true
   },
   "outputs": [
    {
     "data": {
      "text/html": [
       "<div>\n",
       "<style scoped>\n",
       "    .dataframe tbody tr th:only-of-type {\n",
       "        vertical-align: middle;\n",
       "    }\n",
       "\n",
       "    .dataframe tbody tr th {\n",
       "        vertical-align: top;\n",
       "    }\n",
       "\n",
       "    .dataframe thead th {\n",
       "        text-align: right;\n",
       "    }\n",
       "</style>\n",
       "<table border=\"1\" class=\"dataframe\">\n",
       "  <thead>\n",
       "    <tr style=\"text-align: right;\">\n",
       "      <th></th>\n",
       "      <th>RMSE</th>\n",
       "    </tr>\n",
       "  </thead>\n",
       "  <tbody>\n",
       "    <tr>\n",
       "      <th>KNNWithMeans (Item)</th>\n",
       "      <td>0.868518</td>\n",
       "    </tr>\n",
       "    <tr>\n",
       "      <th>SVD</th>\n",
       "      <td>0.872308</td>\n",
       "    </tr>\n",
       "    <tr>\n",
       "      <th>KNNWithMeans (User)</th>\n",
       "      <td>0.872853</td>\n",
       "    </tr>\n",
       "    <tr>\n",
       "      <th>SlopeOne</th>\n",
       "      <td>0.877565</td>\n",
       "    </tr>\n",
       "    <tr>\n",
       "      <th>CoClustering</th>\n",
       "      <td>0.890414</td>\n",
       "    </tr>\n",
       "    <tr>\n",
       "      <th>KNNBasic (Item)</th>\n",
       "      <td>0.896359</td>\n",
       "    </tr>\n",
       "    <tr>\n",
       "      <th>KNNBasic (User)</th>\n",
       "      <td>0.897008</td>\n",
       "    </tr>\n",
       "  </tbody>\n",
       "</table>\n",
       "</div>"
      ],
      "text/plain": [
       "                         RMSE\n",
       "KNNWithMeans (Item)  0.868518\n",
       "SVD                  0.872308\n",
       "KNNWithMeans (User)  0.872853\n",
       "SlopeOne             0.877565\n",
       "CoClustering         0.890414\n",
       "KNNBasic (Item)      0.896359\n",
       "KNNBasic (User)      0.897008"
      ]
     },
     "execution_count": 28,
     "metadata": {},
     "output_type": "execute_result"
    }
   ],
   "source": [
    "# Making summary of the evaluation metric for each algorithm\n",
    "pd.DataFrame(data, columns = ['RMSE'],\n",
    "             index = ['KNNBasic (User)', 'KNNBasic (Item)', 'KNNWithMeans (User)', 'KNNWithMeans (Item)', \n",
    "                      'SVD', 'SlopeOne', 'CoClustering']).sort_values(by = 'RMSE')"
   ]
  },
  {
   "cell_type": "markdown",
   "metadata": {},
   "source": [
    "Looking at the table above, it seems that the most optimum model is Item-Based CF. I will conduct hyperparameter tuning for this chosen model searching for the best hyperparameter setting."
   ]
  },
  {
   "cell_type": "code",
   "execution_count": 29,
   "metadata": {},
   "outputs": [],
   "source": [
    "# Setting parameter for hyperparameter tuning\n",
    "k = np.arange(10, 55, 5)\n",
    "min_k = np.arange(1, 11, 1)\n",
    "name = ['msd', 'pearson', 'cosine']\n",
    "\n",
    "param = {'k' : k, \n",
    "         'min_k' : min_k,\n",
    "        'sim_options' : \n",
    "         {'name' : name,\n",
    "          'user_based' : [False]},\n",
    "        'verbose' : [False]} "
   ]
  },
  {
   "cell_type": "code",
   "execution_count": 30,
   "metadata": {},
   "outputs": [],
   "source": [
    "# Hyperparameter tuning for the selected model (KNNWithMeans)\n",
    "from surprise.model_selection import RandomizedSearchCV\n",
    "grid = RandomizedSearchCV(algo_class = KNNWithMeans, \n",
    "                          param_distributions = param,\n",
    "                          n_iter = 20,\n",
    "                          measures = ['rmse'],\n",
    "                          random_state = 101)\n",
    "grid.fit(df)"
   ]
  },
  {
   "cell_type": "code",
   "execution_count": 31,
   "metadata": {},
   "outputs": [
    {
     "name": "stdout",
     "output_type": "stream",
     "text": [
      "Best hyperparameters: {'rmse': {'k': 25, 'min_k': 4, 'sim_options': {'name': 'pearson', 'user_based': False}, 'verbose': False}}\n",
      "Best score: {'rmse': 0.8566233058242118}\n"
     ]
    }
   ],
   "source": [
    "# Best hyperparameters setting and best evaluation metric score\n",
    "print(f'Best hyperparameters: {grid.best_params}')\n",
    "print(f'Best score: {grid.best_score}')"
   ]
  },
  {
   "cell_type": "markdown",
   "metadata": {},
   "source": [
    "We got our best parameters for this model. Next, I will conduct cross validation to see if our result is consistent across different training and test dataset."
   ]
  },
  {
   "cell_type": "code",
   "execution_count": 32,
   "metadata": {
    "scrolled": true
   },
   "outputs": [
    {
     "name": "stdout",
     "output_type": "stream",
     "text": [
      "Computing the pearson similarity matrix...\n",
      "Done computing similarity matrix.\n",
      "Computing the pearson similarity matrix...\n",
      "Done computing similarity matrix.\n",
      "Computing the pearson similarity matrix...\n",
      "Done computing similarity matrix.\n",
      "Computing the pearson similarity matrix...\n",
      "Done computing similarity matrix.\n",
      "Computing the pearson similarity matrix...\n",
      "Done computing similarity matrix.\n"
     ]
    }
   ],
   "source": [
    "# Cross validation for selected model\n",
    "from surprise.model_selection.validation import cross_validate\n",
    "algo = KNNWithMeans(k = 25, min_k = 4, \n",
    "                    sim_options = {'name' : 'pearson', 'user_based' : False, 'verbose' : False})\n",
    "results = cross_validate(algo = algo, \n",
    "                         data = df, \n",
    "                         measures = ['RMSE'],\n",
    "                        return_train_measures = True, verbose = False)"
   ]
  },
  {
   "cell_type": "code",
   "execution_count": 33,
   "metadata": {},
   "outputs": [
    {
     "data": {
      "text/html": [
       "<div>\n",
       "<style scoped>\n",
       "    .dataframe tbody tr th:only-of-type {\n",
       "        vertical-align: middle;\n",
       "    }\n",
       "\n",
       "    .dataframe tbody tr th {\n",
       "        vertical-align: top;\n",
       "    }\n",
       "\n",
       "    .dataframe thead th {\n",
       "        text-align: right;\n",
       "    }\n",
       "</style>\n",
       "<table border=\"1\" class=\"dataframe\">\n",
       "  <thead>\n",
       "    <tr style=\"text-align: right;\">\n",
       "      <th></th>\n",
       "      <th>test_rmse</th>\n",
       "      <th>train_rmse</th>\n",
       "      <th>fit_time</th>\n",
       "      <th>test_time</th>\n",
       "    </tr>\n",
       "  </thead>\n",
       "  <tbody>\n",
       "    <tr>\n",
       "      <th>Iterasi ke-1</th>\n",
       "      <td>0.856423</td>\n",
       "      <td>0.668343</td>\n",
       "      <td>5.172673</td>\n",
       "      <td>12.228359</td>\n",
       "    </tr>\n",
       "    <tr>\n",
       "      <th>Iterasi ke-2</th>\n",
       "      <td>0.857046</td>\n",
       "      <td>0.666770</td>\n",
       "      <td>4.793096</td>\n",
       "      <td>12.387994</td>\n",
       "    </tr>\n",
       "    <tr>\n",
       "      <th>Iterasi ke-3</th>\n",
       "      <td>0.854914</td>\n",
       "      <td>0.667576</td>\n",
       "      <td>4.812164</td>\n",
       "      <td>12.689004</td>\n",
       "    </tr>\n",
       "    <tr>\n",
       "      <th>Iterasi ke-4</th>\n",
       "      <td>0.858838</td>\n",
       "      <td>0.666737</td>\n",
       "      <td>4.780924</td>\n",
       "      <td>12.273637</td>\n",
       "    </tr>\n",
       "    <tr>\n",
       "      <th>Iterasi ke-5</th>\n",
       "      <td>0.855949</td>\n",
       "      <td>0.667774</td>\n",
       "      <td>4.812153</td>\n",
       "      <td>12.549448</td>\n",
       "    </tr>\n",
       "    <tr>\n",
       "      <th>Rata-rata</th>\n",
       "      <td>0.856634</td>\n",
       "      <td>0.667440</td>\n",
       "      <td>4.874202</td>\n",
       "      <td>12.425688</td>\n",
       "    </tr>\n",
       "  </tbody>\n",
       "</table>\n",
       "</div>"
      ],
      "text/plain": [
       "              test_rmse  train_rmse  fit_time  test_time\n",
       "Iterasi ke-1   0.856423    0.668343  5.172673  12.228359\n",
       "Iterasi ke-2   0.857046    0.666770  4.793096  12.387994\n",
       "Iterasi ke-3   0.854914    0.667576  4.812164  12.689004\n",
       "Iterasi ke-4   0.858838    0.666737  4.780924  12.273637\n",
       "Iterasi ke-5   0.855949    0.667774  4.812153  12.549448\n",
       "Rata-rata      0.856634    0.667440  4.874202  12.425688"
      ]
     },
     "execution_count": 33,
     "metadata": {},
     "output_type": "execute_result"
    }
   ],
   "source": [
    "# Making summary of the evaluation metric for each iteration\n",
    "result_1 = pd.DataFrame(results, index = (f'Iterasi ke-{i}' for i in range(1,6)))\n",
    "result_mean = pd.DataFrame((result_1[i].mean() for i in result_1), columns = ['Rata-rata']).transpose()\n",
    "result_mean.columns = result_1.columns\n",
    "\n",
    "pd.concat([result_1, result_mean])"
   ]
  },
  {
   "cell_type": "markdown",
   "metadata": {},
   "source": [
    "Looking at the above table, RMSE for both the training and testing data has quite consistent value. I will continue with this setting to make a CF-based recommender system."
   ]
  },
  {
   "cell_type": "code",
   "execution_count": 34,
   "metadata": {},
   "outputs": [],
   "source": [
    "# Making function to get top-N recommendation for collaborative filtering (CF) algorithm\n",
    "from collections import defaultdict\n",
    "\n",
    "def top_n_recom_cf(predictions, n):\n",
    "    # Mapping the predictions for the desired user.\n",
    "    top_n = defaultdict(list)\n",
    "    for uid, iid, true_r, est, _ in predictions:\n",
    "        top_n[uid].append((iid, est))\n",
    "    \n",
    "    # Then sort the predictions for each user and retrieve the k highest ones.\n",
    "    for uid, user_ratings in top_n.items():\n",
    "        user_ratings.sort(key=lambda x: x[1], reverse=True)\n",
    "        top_n[uid] = user_ratings[:n]\n",
    "\n",
    "    return top_n"
   ]
  },
  {
   "cell_type": "code",
   "execution_count": 35,
   "metadata": {},
   "outputs": [
    {
     "name": "stdout",
     "output_type": "stream",
     "text": [
      "Computing the pearson similarity matrix...\n",
      "Done computing similarity matrix.\n"
     ]
    },
    {
     "data": {
      "text/plain": [
       "<surprise.prediction_algorithms.knns.KNNWithMeans at 0x273285a79b0>"
      ]
     },
     "execution_count": 35,
     "metadata": {},
     "output_type": "execute_result"
    }
   ],
   "source": [
    "# Training KNNWithMeans algorithm on the goodreads' books dataset.\n",
    "ratings = pd.read_csv('datasets/ratings_ml.csv')\n",
    "df = Dataset.load_from_df(ratings, Reader())\n",
    "df_train = df.build_full_trainset()\n",
    "algo = KNNWithMeans(k = 25, min_k = 4, \n",
    "                    sim_options = {'name' : 'pearson', 'user_based' : False, 'verbose' : False})\n",
    "algo.fit(df_train)"
   ]
  },
  {
   "cell_type": "code",
   "execution_count": 36,
   "metadata": {},
   "outputs": [],
   "source": [
    "# Predict ratings for all pairs (u, i) that are Nnot in the training set.\n",
    "df_test = df_train.build_anti_testset()\n",
    "predictions = algo.test(df_test)\n",
    "recom = top_n_recom_cf(predictions, 10)"
   ]
  },
  {
   "cell_type": "code",
   "execution_count": 37,
   "metadata": {},
   "outputs": [
    {
     "name": "stdout",
     "output_type": "stream",
     "text": [
      "User: 75\n",
      "\n",
      "Top-10 Recommended Books:\n",
      "- Harry Potter Boxset (Harry Potter, #1-7)\n",
      "- The Complete Sherlock Holmes\n",
      "- Nine Stories\n",
      "- Where the Wild Things Are\n",
      "- The Giving Tree\n",
      "- A Light in the Attic\n",
      "- How the Grinch Stole Christmas!\n",
      "- The Two Towers (The Lord of the Rings, #2)\n",
      "- The Velveteen Rabbit\n",
      "- The Tale of Peter Rabbit\n"
     ]
    }
   ],
   "source": [
    "# Recommendation result based on KNNWithMeans\n",
    "uid = 75\n",
    "print(f'User: {uid}\\n\\nTop-10 Recommended Books:', '\\n'.join([f'- {books[books[\"book_id\"] == i[0]][\"title\"].values[0]}'for i in recom[uid]]), sep = '\\n') "
   ]
  },
  {
   "cell_type": "markdown",
   "metadata": {},
   "source": [
    "# 3. Exporting Data"
   ]
  },
  {
   "cell_type": "code",
   "execution_count": 38,
   "metadata": {},
   "outputs": [],
   "source": [
    "# Export the predictions\n",
    "import pickle\n",
    "pickle.dump(sim_title_tfidf, open('predictions/predictions_title.sav', 'wb'))\n",
    "pickle.dump(sim_author_tfidf, open('predictions/predictions_author.sav', 'wb'))\n",
    "pickle.dump(sim_tag_tfidf, open('predictions/predictions_tag.sav', 'wb'))\n",
    "pickle.dump(recom, open('predictions/predictions_cf.sav', 'wb'))"
   ]
  }
 ],
 "metadata": {
  "kernelspec": {
   "display_name": "Python 3",
   "language": "python",
   "name": "python3"
  },
  "language_info": {
   "codemirror_mode": {
    "name": "ipython",
    "version": 3
   },
   "file_extension": ".py",
   "mimetype": "text/x-python",
   "name": "python",
   "nbconvert_exporter": "python",
   "pygments_lexer": "ipython3",
   "version": "3.7.3"
  }
 },
 "nbformat": 4,
 "nbformat_minor": 2
}
